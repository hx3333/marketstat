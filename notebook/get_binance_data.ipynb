{
 "cells": [
  {
   "cell_type": "code",
   "execution_count": 71,
   "id": "97c96b39-ab98-45e2-986f-1ae60bd38586",
   "metadata": {
    "tags": []
   },
   "outputs": [
    {
     "name": "stdout",
     "output_type": "stream",
     "text": [
      "1635833220000\n",
      "1634321220000\n",
      "https://api.binance.com/api/v1/klines?symbol=BTCUSDT&interval=15m&limit=1000&startTime=1634321220000&endTime=1635833220000\n",
      "                               open            high             low           close        volume           close_time       quote_volume  trades taker_base_volue taker_quote_volume ignore\n",
      "open_time                                                                                                                                                                                   \n",
      "2021-10-16 02:15:00  61631.46000000  61820.56000000  61585.00000000  61801.69000000  528.81636000  2021-10-16 02:29:59  32641527.64170240   15178     303.05526000  18706743.65110650      0\n",
      "2021-10-16 02:30:00  61801.70000000  61854.34000000  61601.77000000  61708.69000000  419.87279000  2021-10-16 02:44:59  25916844.74198660   15226     224.80335000  13877154.49739160      0\n",
      "2021-10-16 02:45:00  61708.69000000  61728.63000000  61521.00000000  61649.97000000  469.17522000  2021-10-16 02:59:59  28895005.99350140   15100     247.14019000  15221301.56680120      0\n",
      "2021-10-16 03:00:00  61649.97000000  61675.21000000  61288.00000000  61365.01000000  703.52779000  2021-10-16 03:14:59  43227476.24727200   20185     318.48276000  19567130.48315730      0\n",
      "2021-10-16 03:15:00  61365.01000000  61481.34000000  61348.05000000  61414.07000000  406.63576000  2021-10-16 03:29:59  24973563.97296780   13574     202.58609000  12441619.94992730      0\n",
      "...                             ...             ...             ...             ...           ...                  ...                ...     ...              ...                ...    ...\n",
      "2021-10-26 11:00:00  62730.42000000  62770.08000000  62619.42000000  62770.08000000  270.24523000  2021-10-26 11:14:59  16941048.84505300    8927     130.28765000   8167965.65705000      0\n",
      "2021-10-26 11:15:00  62770.08000000  62791.96000000  62644.64000000  62647.99000000  203.68620000  2021-10-26 11:29:59  12772047.95508580    8346      99.28066000   6225459.72209420      0\n",
      "2021-10-26 11:30:00  62648.00000000  62740.00000000  62646.19000000  62736.91000000  286.00084000  2021-10-26 11:44:59  17930288.59893510    8496     173.72896000  10892027.11622560      0\n",
      "2021-10-26 11:45:00  62736.91000000  62865.87000000  62680.00000000  62758.02000000  218.60220000  2021-10-26 11:59:59  13722204.56232910    9213     116.60736000   7318257.60422800      0\n",
      "2021-10-26 12:00:00  62758.01000000  62815.98000000  62557.50000000  62562.00000000  245.70101000  2021-10-26 12:14:59  15403089.61910690   10388     112.50365000   7053039.65107600      0\n",
      "\n",
      "[1000 rows x 11 columns]\n",
      "https://api.binance.com/api/v1/klines?symbol=BTCUSDT&interval=15m&limit=1000&startTime=1634261220000&endTime=1634321220000\n",
      "                               open            high             low           close         volume           close_time        quote_volume  trades taker_base_volue  taker_quote_volume ignore\n",
      "open_time                                                                                                                                                                                      \n",
      "2021-10-15 09:30:00  57105.13000000  57285.67000000  57063.40000000  57237.52000000   480.53456000  2021-10-15 09:44:59   27473974.59079060   10481     300.28646000   17170092.94650990      0\n",
      "2021-10-15 09:45:00  57239.20000000  57307.86000000  57181.36000000  57258.62000000   226.61582000  2021-10-15 09:59:59   12973719.36947300    7231     123.23218000    7055049.36793580      0\n",
      "2021-10-15 10:00:00  57258.62000000  57340.01000000  57115.26000000  57126.92000000   392.35969000  2021-10-15 10:14:59   22458434.68321560    9865     196.11198000   11225052.48048070      0\n",
      "2021-10-15 10:15:00  57126.93000000  58804.00000000  57095.82000000  58652.59000000  3915.36972400  2021-10-15 10:29:59  227806192.78943907  108682    2572.88124600  149694036.78036129      0\n",
      "2021-10-15 10:30:00  58652.59000000  59026.75000000  58468.35000000  58755.82000000  2297.45001300  2021-10-15 10:44:59  135104900.31698648   70940    1308.14644400   76939872.08054281      0\n",
      "...                             ...             ...             ...             ...            ...                  ...                 ...     ...              ...                 ...    ...\n",
      "2021-10-16 01:00:00  61456.48000000  61785.00000000  61270.00000000  61540.00000000  1587.20582700  2021-10-16 01:14:59   97553220.23386768   58645     850.38387500   52279921.66709989      0\n",
      "2021-10-16 01:15:00  61540.01000000  61573.41000000  61206.05000000  61217.34000000  1142.73612000  2021-10-16 01:29:59   70176261.40180200   29344     515.73130000   31669966.27182410      0\n",
      "2021-10-16 01:30:00  61217.34000000  61810.33000000  61054.64000000  61754.10000000  1034.37264700  2021-10-16 01:44:59   63556907.53957295   33774     567.44387900   34879121.33602345      0\n",
      "2021-10-16 01:45:00  61754.10000000  61880.00000000  61609.24000000  61762.00000000   964.54467300  2021-10-16 01:59:59   59575613.41863721   30365     508.83023300   31428874.23886571      0\n",
      "2021-10-16 02:00:00  61762.01000000  61785.60000000  61583.84000000  61631.47000000   590.89636000  2021-10-16 02:14:59   36446799.86328770   20199     303.91318000   18745724.54769940      0\n",
      "\n",
      "[67 rows x 11 columns]\n"
     ]
    }
   ],
   "source": [
    "import requests\n",
    "import time\n",
    "import pandas as pd\n",
    "pd.set_option('expand_frame_repr', False)\n",
    "\n",
    "# BASE_URL = 'https://api.binance.com'\n",
    "# #\n",
    "# # kline = '/api/v1/klines'\n",
    "# # #\n",
    "# # kline_url = BASE_URL + kline + '?' + 'symbol=BTCUSDT&interval=1h&limit=1000'\n",
    "# # print(kline_url)\n",
    "# # resp = requests.get(kline_url)\n",
    "# # print(resp.json())\n",
    "# # df = pd.DataFrame(resp.json())\n",
    "# # print(df)\n",
    "# # exit()\n",
    "\n",
    "# 如何获取binance过去一年的数据.  For While.\n",
    "\n",
    "\n",
    "BASE_URL = 'https://fapi.binance.com'\n",
    "time_range = 3600*7   ## minutes\n",
    "end_time = int(time.time() // 60 * 60 * 1000)\n",
    "print(end_time)\n",
    "start_time = int(end_time - time_range*60*1000)\n",
    "print(start_time)\n",
    "\n",
    "while True:\n",
    "\n",
    "    url = BASE_URL + '/futures/data/openInterestHist' + '?symbol=ETHUSDT&period=15m' + str(limit) + '&startTime=' + str(\n",
    "        start_time) + '&endTime=' + str(end_time)\n",
    "    print(url)\n",
    "    resp = requests.get(url)\n",
    "    data = resp.json()\n",
    "    df = pd.DataFrame(data, columns={'open_time': 0, 'open': 1, 'high': 2, 'low': 3, 'close': 4, 'volume': 5,\n",
    "                                     'close_time': 6, 'quote_volume': 7, 'trades': 8, 'taker_base_volue': 9,\n",
    "                                     'taker_quote_volume': 10, 'ignore': 11})\n",
    "    df['open_time'] = df['open_time'].apply(lambda x : timeStamp(x))\n",
    "    df['close_time'] = df['close_time'].apply(lambda x : timeStamp(x))\n",
    "    df.set_index('open_time', inplace=True)\n",
    "    df.to_csv(str(timeStamp(end_time).split(\" \")[0]) + '.csv')\n",
    "    print(df)\n",
    "\n",
    "    if len(df) < 1000:\n",
    "        break\n",
    "\n",
    "    end_time = start_time\n",
    "    start_time = int(end_time - limit * 60 * 1000)"
   ]
  },
  {
   "cell_type": "code",
   "execution_count": 61,
   "id": "5b4e73c2-9166-409d-917e-177ac6700630",
   "metadata": {},
   "outputs": [
    {
     "data": {
      "text/plain": [
       "41.666666666666664"
      ]
     },
     "execution_count": 61,
     "metadata": {},
     "output_type": "execute_result"
    }
   ],
   "source": [
    "1000/24"
   ]
  },
  {
   "cell_type": "code",
   "execution_count": 4,
   "id": "e6a895d2-9cad-4ce2-b838-0b0ee860e7e1",
   "metadata": {},
   "outputs": [],
   "source": [
    "def ts_transfer(ts):\n",
    "    time_local = time.localtime(ts)\n",
    "    dt = time.strftime(\"%Y-%m-%d %H:%M:%S\", time_local)\n",
    "    return dt"
   ]
  },
  {
   "cell_type": "code",
   "execution_count": 31,
   "id": "f8164c91-48b9-4066-b414-7bab8a18adeb",
   "metadata": {},
   "outputs": [],
   "source": [
    "def timeStamp(timeNum): \n",
    "    timeStamp = float(timeNum/1000) \n",
    "    timeArray = time.localtime(timeStamp) \n",
    "    otherStyleTime = time.strftime(\"%Y-%m-%d %H:%M:%S\", timeArray)\n",
    "    return otherStyleTime"
   ]
  },
  {
   "cell_type": "code",
   "execution_count": 47,
   "id": "d626a637-ba1c-4edd-a11b-fe02c6aafd8a",
   "metadata": {},
   "outputs": [
    {
     "data": {
      "text/plain": [
       "'2021-11-02 08:00:00'"
      ]
     },
     "execution_count": 47,
     "metadata": {},
     "output_type": "execute_result"
    }
   ],
   "source": [
    "end_time = int(time.time() // 86400 * 86400)\n",
    "ts_transfer(end_time)\n",
    "# timeStamp(end_time)"
   ]
  },
  {
   "cell_type": "code",
   "execution_count": 48,
   "id": "49554604-513c-4bb9-8fd8-1697bb15e001",
   "metadata": {},
   "outputs": [
    {
     "data": {
      "text/plain": [
       "1635811200"
      ]
     },
     "execution_count": 48,
     "metadata": {},
     "output_type": "execute_result"
    }
   ],
   "source": [
    "end_time"
   ]
  }
 ],
 "metadata": {
  "kernelspec": {
   "display_name": "Python 3",
   "language": "python",
   "name": "python3"
  },
  "language_info": {
   "codemirror_mode": {
    "name": "ipython",
    "version": 3
   },
   "file_extension": ".py",
   "mimetype": "text/x-python",
   "name": "python",
   "nbconvert_exporter": "python",
   "pygments_lexer": "ipython3",
   "version": "3.9.4"
  }
 },
 "nbformat": 4,
 "nbformat_minor": 5
}
